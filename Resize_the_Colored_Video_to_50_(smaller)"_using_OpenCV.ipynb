{
  "nbformat": 4,
  "nbformat_minor": 0,
  "metadata": {
    "colab": {
      "provenance": [],
      "authorship_tag": "ABX9TyMxxVj3d4Q1lU/imTDxGkgD",
      "include_colab_link": true
    },
    "kernelspec": {
      "name": "python3",
      "display_name": "Python 3"
    },
    "language_info": {
      "name": "python"
    }
  },
  "cells": [
    {
      "cell_type": "markdown",
      "metadata": {
        "id": "view-in-github",
        "colab_type": "text"
      },
      "source": [
        "<a href=\"https://colab.research.google.com/github/vinayparjapati5/Re-Size-Video-using-OpenCV/blob/main/Resize_the_Colored_Video_to_50_(smaller)%22_using_OpenCV.ipynb\" target=\"_parent\"><img src=\"https://colab.research.google.com/assets/colab-badge.svg\" alt=\"Open In Colab\"/></a>"
      ]
    },
    {
      "cell_type": "markdown",
      "source": [
        "---\n",
        "## **Mini Project : Resize the Colored Video to 50% (smaller) using OpenCV**\n",
        "---"
      ],
      "metadata": {
        "id": "-GLAa_ST6Ifs"
      }
    },
    {
      "cell_type": "markdown",
      "source": [
        "---\n",
        "### 1. Download a Colored Video\n",
        "---"
      ],
      "metadata": {
        "id": "ev0Mgitc6Sox"
      }
    },
    {
      "cell_type": "code",
      "execution_count": 1,
      "metadata": {
        "colab": {
          "base_uri": "https://localhost:8080/"
        },
        "id": "H_04jG316HDy",
        "outputId": "653c57a4-a9a5-45d1-87a5-f943449467f0"
      },
      "outputs": [
        {
          "output_type": "stream",
          "name": "stdout",
          "text": [
            "Pytube installed successfully...\n",
            "Downloading: ENGINEERING DESIGN PROJECT- II(BUGGY) || VLOG1 || EXPERIENCES || ENJOY || THAPAR UNIVERSITY (720p)\n"
          ]
        }
      ],
      "source": [
        "!pip install pytube &>/dev/null\n",
        "print(\"Pytube installed successfully...\")\n",
        "\n",
        "from pytube import YouTube\n",
        "\n",
        "video_url = \"https://youtube.com/shorts/NJYT-f4nREo?feature=share\"\n",
        "yt = YouTube(video_url)\n",
        "\n",
        "# Set the desired video quality\n",
        "desired_quality = \"720p\"  # Example: \"720p\", \"480p\", \"360p\", \"240p\", etc.\n",
        "\n",
        "# Filter the streams based on the desired quality\n",
        "filtered_streams = yt.streams.filter(res=desired_quality)\n",
        "\n",
        "if len(filtered_streams) > 0:\n",
        "    # Get the first stream from the filtered list\n",
        "    stream = filtered_streams.first()\n",
        "\n",
        "    print(f\"Downloading: {yt.title} ({desired_quality})\")\n",
        "    stream.download()\n",
        "else:\n",
        "    print(f\"No streams found with the quality: {desired_quality}\")"
      ]
    },
    {
      "cell_type": "markdown",
      "source": [
        "---\n",
        "### 2. Import downloaded video & resize it to 50%(smaller)\n",
        "---"
      ],
      "metadata": {
        "id": "mmDB6JPH8MKp"
      }
    },
    {
      "cell_type": "code",
      "source": [
        "import cv2\n",
        "from moviepy.editor import VideoFileClip\n",
        "\n",
        "# Load the video\n",
        "video_path = \"/content/ENGINEERING DESIGN PROJECT- II(BUGGY)  VLOG1  EXPERIENCES  ENJOY  THAPAR UNIVERSITY.mp4\"\n",
        "cap = cv2.VideoCapture(video_path)\n",
        "\n",
        "# Get the video properties\n",
        "fps = cap.get(cv2.CAP_PROP_FPS)\n",
        "width = int(cap.get(cv2.CAP_PROP_FRAME_WIDTH))\n",
        "height = int(cap.get(cv2.CAP_PROP_FRAME_HEIGHT))\n",
        "\n",
        "# Calculate the new dimensions for resizing\n",
        "new_width = int(width * 0.5)\n",
        "new_height = int(height * 0.5)\n",
        "\n",
        "# Create a VideoWriter object to save the resized video\n",
        "output_path = \"output_video.mp4\"\n",
        "fourcc = cv2.VideoWriter_fourcc(*\"mp4v\")\n",
        "out = cv2.VideoWriter(output_path, fourcc, fps, (new_width, new_height))\n",
        "\n",
        "# Loop through the video frames\n",
        "while cap.isOpened():\n",
        "    ret, frame = cap.read()\n",
        "    if ret:\n",
        "        # Resize the frame\n",
        "        resized_frame = cv2.resize(frame, (new_width, new_height))\n",
        "\n",
        "        # Write the resized frame to the output video\n",
        "        out.write(resized_frame)\n",
        "\n",
        "        # Check if the 'q' key is pressed to quit\n",
        "        if cv2.waitKey(1) & 0xFF == ord('q'):\n",
        "            break\n",
        "    else:\n",
        "        break\n",
        "\n",
        "# Release the video capture and writer objects\n",
        "cap.release()\n",
        "out.release()\n",
        "\n",
        "# Close the OpenCV windows\n",
        "cv2.destroyAllWindows()\n",
        "\n",
        "# Add audio to the resized video using moviepy\n",
        "video_clip = VideoFileClip(output_path)\n",
        "video_clip1 = VideoFileClip(video_path)\n",
        "audio_clip = video_clip1.audio\n",
        "final_clip = video_clip.set_audio(audio_clip)\n",
        "final_output_path = \"output_video_with_audio.mp4\"\n",
        "final_clip.write_videofile(final_output_path, codec=\"libx264\", audio_codec=\"aac\")\n",
        "\n",
        "print(\"Resizing complete. Resized video with audio saved.\")"
      ],
      "metadata": {
        "colab": {
          "base_uri": "https://localhost:8080/"
        },
        "id": "0bbzkbMk8TtR",
        "outputId": "a87684c5-6bf8-4113-804b-749579b88cf9"
      },
      "execution_count": 2,
      "outputs": [
        {
          "output_type": "stream",
          "name": "stdout",
          "text": [
            "Moviepy - Building video output_video_with_audio.mp4.\n",
            "MoviePy - Writing audio in output_video_with_audioTEMP_MPY_wvf_snd.mp4\n"
          ]
        },
        {
          "output_type": "stream",
          "name": "stderr",
          "text": []
        },
        {
          "output_type": "stream",
          "name": "stdout",
          "text": [
            "MoviePy - Done.\n",
            "Moviepy - Writing video output_video_with_audio.mp4\n",
            "\n"
          ]
        },
        {
          "output_type": "stream",
          "name": "stderr",
          "text": []
        },
        {
          "output_type": "stream",
          "name": "stdout",
          "text": [
            "Moviepy - Done !\n",
            "Moviepy - video ready output_video_with_audio.mp4\n",
            "Resizing complete. Resized video with audio saved.\n"
          ]
        }
      ]
    }
  ]
}